{
 "cells": [
  {
   "cell_type": "markdown",
   "id": "bfebf2d4-349b-4d4a-8bd9-c71b8d92b69e",
   "metadata": {},
   "source": [
    "**实验目标s**\n",
    "</br>\n",
    "本节将应用python的模块（jieba)模块，开发简单的关键词查找程序。通过实验理解关键词查找的基本原理和相关技术。\n",
    "jieba分词模块，适用于关键词抽取，非python自带模块；\n",
    "\n",
    "\n",
    "**注意**\n",
    "</br>\n",
    "一些txt的文件放在这里的文件夹，会报错。最好放在和语音识别同一级的目录下"
   ]
  },
  {
   "cell_type": "code",
   "execution_count": 1,
   "id": "ee179165-8ad2-4e6b-ae8f-d90fb44a0b15",
   "metadata": {},
   "outputs": [],
   "source": [
    "import jieba\n",
    "import re"
   ]
  },
  {
   "cell_type": "code",
   "execution_count": 2,
   "id": "0e620a33-9450-49eb-966b-d42b2726b9cb",
   "metadata": {
    "tags": []
   },
   "outputs": [],
   "source": [
    "s=open(r'红楼梦.txt','r',encoding='utf-8').read()"
   ]
  },
  {
   "cell_type": "code",
   "execution_count": 3,
   "id": "2f0041af-3fce-43ec-adaf-be3b1bf99cde",
   "metadata": {
    "tags": []
   },
   "outputs": [],
   "source": [
    "chars='，。！？、（）...... \\n'"
   ]
  },
  {
   "cell_type": "code",
   "execution_count": 4,
   "id": "eee0ee9f-2581-4b01-a092-ad7774cfd1e0",
   "metadata": {
    "tags": []
   },
   "outputs": [
    {
     "name": "stderr",
     "output_type": "stream",
     "text": [
      "Building prefix dict from the default dictionary ...\n",
      "Loading model from cache /tmp/jieba.cache\n",
      "Loading model cost 1.646 seconds.\n",
      "Prefix dict has been built successfully.\n"
     ]
    }
   ],
   "source": [
    "for char in chars:\n",
    "    s=s.replace(char,'')#把文本中的,.?'用空格分来\n",
    "s=''.join(s.split()) #用空格把文本连接起来，\n",
    "jieba.load_userdict=open('userdict.txt','r',encoding='utf-8')\n",
    "words=jieba.lcut(s)"
   ]
  },
  {
   "cell_type": "code",
   "execution_count": 5,
   "id": "7e109bb9-4c4b-47f4-b7cf-f070f5b34da8",
   "metadata": {},
   "outputs": [],
   "source": [
    "stopwords=open('stop_words.txt','r',encoding='utf-8').read()\n",
    "stopwords_list=list(stopwords)#停用词转换成列表形式\n"
   ]
  },
  {
   "cell_type": "code",
   "execution_count": 6,
   "id": "948a7253-3159-4deb-8c07-3b47b2c32904",
   "metadata": {
    "tags": []
   },
   "outputs": [],
   "source": [
    "#开始统计词频\n",
    "words_dict={}\n",
    "remove_words={'好啊','听见'}\n",
    "for i in words:\n",
    "    if len(i)==1:\n",
    "        continue\n",
    "    if i in stopwords_list:\n",
    "        continue\n",
    "    if i in remove_words:\n",
    "        continue\n",
    "    words_dict[i]=words_dict.get(i,0)+1 ##使用dict.get()函数。dict.get(key,default=Non),得到的是键值，就是\n",
    "words_list=list(words_dict.items())#把words转换成字典\n",
    "words_list.sort(key=lambda x:x[1],reverse=True)"
   ]
  },
  {
   "cell_type": "code",
   "execution_count": 7,
   "id": "aecf36a0-c7e3-4136-b892-0db60c934c16",
   "metadata": {
    "tags": []
   },
   "outputs": [
    {
     "data": {
      "text/plain": [
       "<function TextIOWrapper.close()>"
      ]
     },
     "execution_count": 7,
     "metadata": {},
     "output_type": "execute_result"
    }
   ],
   "source": [
    "#保存词频\n",
    "f=open(r'红楼梦词频分析.txt','w',encoding='utf-8')\n",
    "for n in range(len(words_list)):\n",
    "    k,v=words_list[n]\n",
    "    f.write('{:<5}{:>5}'.format(k,v))\n",
    "f.close"
   ]
  }
 ],
 "metadata": {
  "kernelspec": {
   "display_name": "Python 3 (ipykernel)",
   "language": "python",
   "name": "python3"
  },
  "language_info": {
   "codemirror_mode": {
    "name": "ipython",
    "version": 3
   },
   "file_extension": ".py",
   "mimetype": "text/x-python",
   "name": "python",
   "nbconvert_exporter": "python",
   "pygments_lexer": "ipython3",
   "version": "3.10.6"
  },
  "widgets": {
   "application/vnd.jupyter.widget-state+json": {
    "state": {},
    "version_major": 2,
    "version_minor": 0
   }
  }
 },
 "nbformat": 4,
 "nbformat_minor": 5
}
