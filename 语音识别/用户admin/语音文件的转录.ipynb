{
 "cells": [
  {
   "cell_type": "markdown",
   "id": "a74da3e4-2f72-4822-a6e7-f38fcaed66a8",
   "metadata": {
    "tags": []
   },
   "source": [
    "**实验目标**\n",
    "\n",
    "通过本次实例开发，能够熟悉语音识别技术的基本过程，会利用python语言编辑环境实现语音文件的转录系统。\n",
    "\n",
    "**实验环境**\n",
    "\n",
    "本实验基本环境为python3.8,实验过程需要安装SpeechRecognition、Sphinx Recognizer识别器，本实验已经提前将**实验基本环境配好**。本实验为实例，仅作为示范，你可以在在此基础上进行扩展创新。\n",
    "\n",
    "**注意**\n",
    "\n",
    "如果你需要使用其他相关库，可以亦须使用以下命令：\n",
    "**cd /home/ubuntu/anaconda3/lib/python3.8/site-packages**\n",
    "进入以下目录后，使用以下命令查看已经安装的包：\n",
    "**pip list**"
   ]
  },
  {
   "cell_type": "code",
   "execution_count": 1,
   "id": "f43657a2-6d1e-49fb-9432-51f6275b17f4",
   "metadata": {
    "tags": []
   },
   "outputs": [],
   "source": [
    "#把这个加入到环境变量中，不然会显示没有库\n",
    "import sys\n",
    "sys.path.append(\"/home/ubuntu/anaconda3/lib/python3.8/site-packages\")"
   ]
  },
  {
   "cell_type": "code",
   "execution_count": 2,
   "id": "cfc9e965-69ff-4790-8132-624c1227bee8",
   "metadata": {},
   "outputs": [],
   "source": [
    "import speech_recognition as sr\n",
    "path=\"中文音频.wav\"\n",
    "path1=\"英文音频.wav\""
   ]
  },
  {
   "cell_type": "code",
   "execution_count": 3,
   "id": "012d8798-7dc6-4176-8d1e-b7cb8965a7d8",
   "metadata": {},
   "outputs": [],
   "source": [
    "def use_english_recognition(wavfilepath):\n",
    "    r = sr.Recognizer()\n",
    "    sudio = ''\n",
    "    global result \n",
    "    with sr.AudioFile(wavfilepath) as src:#初始化音频文件的路径\n",
    "        sudio = r.record(src)#从音频文件中获取数据\n",
    "    result =r.recognize_sphinx(sudio)#调用recognize_sphinx识别器进行英文识别\n",
    "    return result"
   ]
  },
  {
   "cell_type": "code",
   "execution_count": 4,
   "id": "b5d06c41-cf13-4d2a-9e05-fd0e7d254111",
   "metadata": {},
   "outputs": [],
   "source": [
    "def use_chinese_recognition(wavfilepath):\n",
    "    r = sr.Recognizer()\n",
    "    sudio = ''\n",
    "    global result \n",
    "    with sr.AudioFile(wavfilepath) as src:#初始化音频文件的路径\n",
    "        sudio = r.record(src)#从音频文件中获取数据\n",
    "    result =r.recognize_sphinx(sudio,language='zh_CN')#调用recognize_sphinx识别器进\n",
    "    return result"
   ]
  },
  {
   "cell_type": "code",
   "execution_count": 5,
   "id": "540fff9d-42df-4382-a7ff-608d4c99b363",
   "metadata": {},
   "outputs": [
    {
     "name": "stdout",
     "output_type": "stream",
     "text": [
      "which languagedo you want to transform:\n"
     ]
    },
    {
     "name": "stdin",
     "output_type": "stream",
     "text": [
      "E or Zh E\n"
     ]
    },
    {
     "name": "stdout",
     "output_type": "stream",
     "text": [
      "识别结果为： excuse me\n"
     ]
    }
   ],
   "source": [
    "print(\"which languagedo you want to transform:\")\n",
    "i=input(\"E or Zh\")\n",
    "if i==\"E\":\n",
    "    use_english_recognition(path1)\n",
    "    print(\"识别结果为：\",result)\n",
    "else:\n",
    "    use_chinese_recognition(path)\n",
    "    print(\"识别结果为：\",result)"
   ]
  },
  {
   "cell_type": "code",
   "execution_count": null,
   "id": "ac85d65a-2ac7-4a9c-b221-ae746be6c103",
   "metadata": {},
   "outputs": [],
   "source": []
  }
 ],
 "metadata": {
  "kernelspec": {
   "display_name": "python3.10",
   "language": "python",
   "name": "python3.10"
  },
  "language_info": {
   "codemirror_mode": {
    "name": "ipython",
    "version": 3
   },
   "file_extension": ".py",
   "mimetype": "text/x-python",
   "name": "python",
   "nbconvert_exporter": "python",
   "pygments_lexer": "ipython3",
   "version": "3.10.6"
  },
  "widgets": {
   "application/vnd.jupyter.widget-state+json": {
    "state": {},
    "version_major": 2,
    "version_minor": 0
   }
  }
 },
 "nbformat": 4,
 "nbformat_minor": 5
}
